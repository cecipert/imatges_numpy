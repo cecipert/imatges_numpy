{
 "cells": [
  {
   "cell_type": "markdown",
   "id": "9ca9f601",
   "metadata": {},
   "source": [
    "# S03 T02: Estructura d'una Matriu"
   ]
  },
  {
   "cell_type": "code",
   "execution_count": 101,
   "id": "065081d3",
   "metadata": {},
   "outputs": [],
   "source": [
    "import numpy as np"
   ]
  },
  {
   "cell_type": "markdown",
   "id": "5f8d23e5",
   "metadata": {},
   "source": [
    "## Exercici 1"
   ]
  },
  {
   "cell_type": "code",
   "execution_count": 102,
   "id": "4990d592",
   "metadata": {},
   "outputs": [
    {
     "name": "stdout",
     "output_type": "stream",
     "text": [
      "[1 2 8 4 3 6 8 1 5]\n",
      "El tipo de los elementos es: int64\n",
      "La dimensión de la matriz es: 1\n",
      "La forma de la matriz es: (9,)\n"
     ]
    }
   ],
   "source": [
    "# crear un array de una dimensión con dtype int64\n",
    "\n",
    "arr = np.array([1,2,8,4,3,6,8,1,5],dtype=\"int64\")\n",
    "\n",
    "print(arr)\n",
    "print('El tipo de los elementos es:', np.dtype(arr[0]))\n",
    "print('La dimensión de la matriz es:',np.ndim(arr))\n",
    "print('La forma de la matriz es:',np.shape(arr))\n",
    "\n",
    "\n",
    "# y si fuera un  3d-array...\n",
    "# arr2 = np.array([[[1,2],[2,1],[2,3]],[[1,2],[2,1],[2,3]]])\n"
   ]
  },
  {
   "cell_type": "markdown",
   "id": "33389a52",
   "metadata": {},
   "source": [
    "## Exercici 2\n"
   ]
  },
  {
   "cell_type": "code",
   "execution_count": 103,
   "id": "cbdf8d1a",
   "metadata": {},
   "outputs": [
    {
     "name": "stdout",
     "output_type": "stream",
     "text": [
      "El valor promedio del array es: 4.22\n"
     ]
    }
   ],
   "source": [
    "# calculo el promedio\n",
    "p = round(np.mean(arr),2)\n",
    "print('El valor promedio del array es:', p)"
   ]
  },
  {
   "cell_type": "code",
   "execution_count": 104,
   "id": "8c16faf8",
   "metadata": {},
   "outputs": [
    {
     "name": "stdout",
     "output_type": "stream",
     "text": [
      "[-3.22 -2.22  3.78 -0.22 -1.22  1.78  3.78 -3.22  0.78]\n"
     ]
    }
   ],
   "source": [
    "# resto el promedio a cada valor del array\n",
    "arr = arr - p\n",
    "print(arr)"
   ]
  },
  {
   "cell_type": "markdown",
   "id": "f9b48cf6",
   "metadata": {},
   "source": [
    "## Exercici 3"
   ]
  },
  {
   "cell_type": "code",
   "execution_count": 105,
   "id": "3d62858b",
   "metadata": {},
   "outputs": [
    {
     "name": "stdout",
     "output_type": "stream",
     "text": [
      "[[ 1  2  3  4  5]\n",
      " [ 2  1  8  5  3]\n",
      " [ 2  3  3  2  9]\n",
      " [ 4  6  8 10 12]\n",
      " [ 1  3  9 15  5]]\n",
      "La dimensión de la matriz es: 2\n",
      "La forma de la matriz es: (5, 5)\n"
     ]
    }
   ],
   "source": [
    "arr2 = np.array([[1,2,3,4,5],[2,1,8,5,3],[2,3,3,2,9],[4,6,8,10,12],[1,3,9,15,5]])\n",
    "print(arr2)\n",
    "print('La dimensión de la matriz es:',np.ndim(arr2))\n",
    "print('La forma de la matriz es:',np.shape(arr2))"
   ]
  },
  {
   "cell_type": "code",
   "execution_count": 106,
   "id": "fc65cfd2",
   "metadata": {},
   "outputs": [
    {
     "name": "stdout",
     "output_type": "stream",
     "text": [
      "El valor máximo de todo el array es:  15\n"
     ]
    }
   ],
   "source": [
    "# encontrar el valor máximo\n",
    "print('El valor máximo de todo el array es: ', np.max(arr2))"
   ]
  },
  {
   "cell_type": "code",
   "execution_count": 107,
   "id": "cdb9819b",
   "metadata": {},
   "outputs": [
    {
     "name": "stdout",
     "output_type": "stream",
     "text": [
      "El valor máximo de cada fila es:  [ 5  8  9 12 15]\n",
      "El valor máximo de cada columna es:  [ 4  6  9 15 12]\n"
     ]
    }
   ],
   "source": [
    "# encontrar el valor máximo de cada fila\n",
    "print('El valor máximo de cada fila es: ', np.max(arr2, axis=1))\n",
    "\n",
    "# encontrar el valor máximo de cada columna\n",
    "print('El valor máximo de cada columna es: ', np.max(arr2, axis=0))\n"
   ]
  },
  {
   "cell_type": "markdown",
   "id": "2fd59762",
   "metadata": {},
   "source": [
    "## Exercici 4"
   ]
  },
  {
   "cell_type": "markdown",
   "id": "461d63c9",
   "metadata": {},
   "source": [
    "### Casos en que se puede hacer broadcast\n",
    "Las formas de las matrices coinciden o una de las matrices es de dimensión 1"
   ]
  },
  {
   "cell_type": "code",
   "execution_count": 108,
   "id": "a98093c0",
   "metadata": {},
   "outputs": [
    {
     "name": "stdout",
     "output_type": "stream",
     "text": [
      "[[1 4 3]\n",
      " [6 4 1]]\n"
     ]
    }
   ],
   "source": [
    "# las formas coinciden\n",
    "mat2x3 = np.array([[1, 2, 3], [3, 2, 1]])\n",
    "mat2x3b = np.array([[1, 2, 1], [2, 2, 1]])\n",
    "print(mat2x3 * mat2x3b)"
   ]
  },
  {
   "cell_type": "code",
   "execution_count": 109,
   "id": "5c02e064",
   "metadata": {},
   "outputs": [
    {
     "name": "stdout",
     "output_type": "stream",
     "text": [
      "[[5 7 9]\n",
      " [7 7 7]]\n"
     ]
    }
   ],
   "source": [
    "# una de las matrices tiene dimensión 1\n",
    "mat2x1 = np.array([4, 5, 6])\n",
    "               \n",
    "print(mat2x3 + mat2x1)"
   ]
  },
  {
   "cell_type": "code",
   "execution_count": 110,
   "id": "fd44b178",
   "metadata": {},
   "outputs": [
    {
     "name": "stdout",
     "output_type": "stream",
     "text": [
      "[[16 17 18]\n",
      " [18 17 16]]\n"
     ]
    }
   ],
   "source": [
    "# también se puede hacer broadcast de un escalar a cualquier matriz\n",
    "print(mat2x3 + 15)"
   ]
  },
  {
   "cell_type": "markdown",
   "id": "4a95596f",
   "metadata": {},
   "source": [
    "### Casos en los que no se puede hacer broadcasting"
   ]
  },
  {
   "cell_type": "code",
   "execution_count": 111,
   "id": "9f33b56b",
   "metadata": {},
   "outputs": [
    {
     "ename": "ValueError",
     "evalue": "operands could not be broadcast together with shapes (2,3) (3,3) ",
     "output_type": "error",
     "traceback": [
      "\u001b[1;31m---------------------------------------------------------------------------\u001b[0m",
      "\u001b[1;31mValueError\u001b[0m                                Traceback (most recent call last)",
      "\u001b[1;32m<ipython-input-111-01a0c9f1e52a>\u001b[0m in \u001b[0;36m<module>\u001b[1;34m\u001b[0m\n\u001b[0;32m      2\u001b[0m \u001b[0mmat2x3\u001b[0m \u001b[1;33m=\u001b[0m \u001b[0mnp\u001b[0m\u001b[1;33m.\u001b[0m\u001b[0marray\u001b[0m\u001b[1;33m(\u001b[0m\u001b[1;33m[\u001b[0m\u001b[1;33m[\u001b[0m\u001b[1;36m1\u001b[0m\u001b[1;33m,\u001b[0m \u001b[1;36m2\u001b[0m\u001b[1;33m,\u001b[0m \u001b[1;36m3\u001b[0m\u001b[1;33m]\u001b[0m\u001b[1;33m,\u001b[0m \u001b[1;33m[\u001b[0m\u001b[1;36m3\u001b[0m\u001b[1;33m,\u001b[0m \u001b[1;36m2\u001b[0m\u001b[1;33m,\u001b[0m \u001b[1;36m1\u001b[0m\u001b[1;33m]\u001b[0m\u001b[1;33m]\u001b[0m\u001b[1;33m)\u001b[0m\u001b[1;33m\u001b[0m\u001b[1;33m\u001b[0m\u001b[0m\n\u001b[0;32m      3\u001b[0m \u001b[0mmat3x3\u001b[0m \u001b[1;33m=\u001b[0m \u001b[0mnp\u001b[0m\u001b[1;33m.\u001b[0m\u001b[0marray\u001b[0m\u001b[1;33m(\u001b[0m\u001b[1;33m[\u001b[0m\u001b[1;33m[\u001b[0m\u001b[1;36m1\u001b[0m\u001b[1;33m,\u001b[0m \u001b[1;36m2\u001b[0m\u001b[1;33m,\u001b[0m \u001b[1;36m3\u001b[0m\u001b[1;33m]\u001b[0m\u001b[1;33m,\u001b[0m \u001b[1;33m[\u001b[0m\u001b[1;36m3\u001b[0m\u001b[1;33m,\u001b[0m \u001b[1;36m2\u001b[0m\u001b[1;33m,\u001b[0m \u001b[1;36m1\u001b[0m\u001b[1;33m]\u001b[0m\u001b[1;33m,\u001b[0m \u001b[1;33m[\u001b[0m\u001b[1;36m1\u001b[0m\u001b[1;33m,\u001b[0m \u001b[1;36m1\u001b[0m\u001b[1;33m,\u001b[0m \u001b[1;36m1\u001b[0m\u001b[1;33m]\u001b[0m\u001b[1;33m]\u001b[0m\u001b[1;33m)\u001b[0m\u001b[1;33m\u001b[0m\u001b[1;33m\u001b[0m\u001b[0m\n\u001b[1;32m----> 4\u001b[1;33m \u001b[0mprint\u001b[0m\u001b[1;33m(\u001b[0m\u001b[0mmat2x3\u001b[0m \u001b[1;33m+\u001b[0m \u001b[0mmat3x3\u001b[0m\u001b[1;33m)\u001b[0m\u001b[1;33m\u001b[0m\u001b[1;33m\u001b[0m\u001b[0m\n\u001b[0m",
      "\u001b[1;31mValueError\u001b[0m: operands could not be broadcast together with shapes (2,3) (3,3) "
     ]
    }
   ],
   "source": [
    "# las formas de las matrices no coinciden (y ninguna es de dimensión1)\n",
    "mat2x3 = np.array([[1, 2, 3], [3, 2, 1]])\n",
    "mat3x3 = np.array([[1, 2, 3], [3, 2, 1], [1, 1, 1]])\n",
    "print(mat2x3 + mat3x3)\n"
   ]
  },
  {
   "cell_type": "code",
   "execution_count": 112,
   "id": "4dcbe8f9",
   "metadata": {},
   "outputs": [
    {
     "ename": "ValueError",
     "evalue": "operands could not be broadcast together with shapes (2,3) (2,) ",
     "output_type": "error",
     "traceback": [
      "\u001b[1;31m---------------------------------------------------------------------------\u001b[0m",
      "\u001b[1;31mValueError\u001b[0m                                Traceback (most recent call last)",
      "\u001b[1;32m<ipython-input-112-8dd06ce63d15>\u001b[0m in \u001b[0;36m<module>\u001b[1;34m\u001b[0m\n\u001b[0;32m      2\u001b[0m \u001b[0mmat2x3\u001b[0m \u001b[1;33m=\u001b[0m \u001b[0mnp\u001b[0m\u001b[1;33m.\u001b[0m\u001b[0marray\u001b[0m\u001b[1;33m(\u001b[0m\u001b[1;33m[\u001b[0m\u001b[1;33m[\u001b[0m\u001b[1;36m1\u001b[0m\u001b[1;33m,\u001b[0m \u001b[1;36m2\u001b[0m\u001b[1;33m,\u001b[0m \u001b[1;36m3\u001b[0m\u001b[1;33m]\u001b[0m\u001b[1;33m,\u001b[0m \u001b[1;33m[\u001b[0m\u001b[1;36m3\u001b[0m\u001b[1;33m,\u001b[0m \u001b[1;36m2\u001b[0m\u001b[1;33m,\u001b[0m \u001b[1;36m1\u001b[0m\u001b[1;33m]\u001b[0m\u001b[1;33m]\u001b[0m\u001b[1;33m)\u001b[0m\u001b[1;33m\u001b[0m\u001b[1;33m\u001b[0m\u001b[0m\n\u001b[0;32m      3\u001b[0m \u001b[0mmat1x2\u001b[0m \u001b[1;33m=\u001b[0m \u001b[0mnp\u001b[0m\u001b[1;33m.\u001b[0m\u001b[0marray\u001b[0m\u001b[1;33m(\u001b[0m\u001b[1;33m[\u001b[0m\u001b[1;36m1\u001b[0m\u001b[1;33m,\u001b[0m \u001b[1;36m2\u001b[0m\u001b[1;33m]\u001b[0m\u001b[1;33m)\u001b[0m\u001b[1;33m\u001b[0m\u001b[1;33m\u001b[0m\u001b[0m\n\u001b[1;32m----> 4\u001b[1;33m \u001b[0mprint\u001b[0m\u001b[1;33m(\u001b[0m\u001b[0mmat2x3\u001b[0m \u001b[1;33m+\u001b[0m \u001b[0mmat1x2\u001b[0m\u001b[1;33m)\u001b[0m\u001b[1;33m\u001b[0m\u001b[1;33m\u001b[0m\u001b[0m\n\u001b[0m",
      "\u001b[1;31mValueError\u001b[0m: operands could not be broadcast together with shapes (2,3) (2,) "
     ]
    }
   ],
   "source": [
    "# Cuando la dimensión es 1 el número de columnas debe coincidir\n",
    "mat2x3 = np.array([[1, 2, 3], [3, 2, 1]])\n",
    "mat1x2 = np.array([1, 2])\n",
    "print(mat2x3 + mat1x2)"
   ]
  },
  {
   "cell_type": "markdown",
   "id": "6fc51c3a",
   "metadata": {},
   "source": [
    "## Exercici 5"
   ]
  },
  {
   "cell_type": "code",
   "execution_count": 127,
   "id": "553c46fa",
   "metadata": {},
   "outputs": [
    {
     "name": "stdout",
     "output_type": "stream",
     "text": [
      "[ 3  3  6 10  8]\n"
     ]
    }
   ],
   "source": [
    "# sumo la primera fila con la segunda columna\n",
    "arr2 = np.array([[1,2,3,4,5],[2,1,8,5,3],[2,3,3,2,9],[4,6,8,10,12],[1,3,9,15,5]])\n",
    "prim_fila = arr2[0]\n",
    "seg_col = arr2[:,1]\n",
    "print(prim_fila + seg_col)"
   ]
  },
  {
   "cell_type": "markdown",
   "id": "2018e418",
   "metadata": {},
   "source": [
    "## Exercici 6"
   ]
  },
  {
   "cell_type": "code",
   "execution_count": 133,
   "id": "1ac2488f",
   "metadata": {},
   "outputs": [
    {
     "name": "stdout",
     "output_type": "stream",
     "text": [
      "[[2 0 0 1 0]\n",
      " [0 0 2 0 0]\n",
      " [0 0 0 0 0]\n",
      " [1 0 2 0 3]\n",
      " [0 0 0 4 0]]\n"
     ]
    }
   ],
   "source": [
    "# obtener una matriz nueva en donde sólo figuren los números que son divisibles por 4\n",
    "arr2 = np.array([[8,2,3,4,5],[2,1,8,5,3],[2,3,3,2,9],[4,6,8,10,12],[1,3,9,16,5]])\n",
    "# genero la máscara de los valores divisibles por 4\n",
    "mask = arr2 % 4 == 0\n",
    "# calculo la división, mostrando solamente de los que son divisibles por 4\n",
    "divisibles = arr2//4 * mask\n",
    "print(divisibles)"
   ]
  },
  {
   "cell_type": "markdown",
   "id": "14df554e",
   "metadata": {},
   "source": [
    "## Exercici 7"
   ]
  },
  {
   "cell_type": "code",
   "execution_count": 134,
   "id": "0ec03b40",
   "metadata": {},
   "outputs": [
    {
     "name": "stdout",
     "output_type": "stream",
     "text": [
      "[2 1 2 1 2 3 4]\n"
     ]
    }
   ],
   "source": [
    "# armo una matriz más pequeña, que sólo contenga los valores divisibles por 4\n",
    "print(divisibles[mask])"
   ]
  },
  {
   "cell_type": "code",
   "execution_count": null,
   "id": "d86a87b3",
   "metadata": {},
   "outputs": [],
   "source": []
  }
 ],
 "metadata": {
  "kernelspec": {
   "display_name": "Python 3",
   "language": "python",
   "name": "python3"
  },
  "language_info": {
   "codemirror_mode": {
    "name": "ipython",
    "version": 3
   },
   "file_extension": ".py",
   "mimetype": "text/x-python",
   "name": "python",
   "nbconvert_exporter": "python",
   "pygments_lexer": "ipython3",
   "version": "3.8.8"
  }
 },
 "nbformat": 4,
 "nbformat_minor": 5
}
